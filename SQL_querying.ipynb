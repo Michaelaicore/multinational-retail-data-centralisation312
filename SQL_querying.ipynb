{
 "cells": [
  {
   "cell_type": "markdown",
   "metadata": {},
   "source": [
    "# SQL querying"
   ]
  },
  {
   "cell_type": "code",
   "execution_count": 1,
   "metadata": {},
   "outputs": [],
   "source": [
    "from main.database_utils import DatabaseConnector\n",
    "from sqlalchemy import text, create_engine, MetaData, Table"
   ]
  },
  {
   "cell_type": "code",
   "execution_count": 2,
   "metadata": {},
   "outputs": [],
   "source": [
    "dc = DatabaseConnector()\n",
    "dc.creds = dc.read_db_creds(dc.target_creds_path)\n",
    "# Create engine\n",
    "dc.engine = create_engine(\n",
    "    f\"postgresql://{dc.creds['RDS_USER']}:{dc.creds['RDS_PASSWORD']}@{dc.creds['RDS_HOST']}:{dc.creds['RDS_PORT']}/{dc.creds['RDS_DATABASE']}\"\n",
    ")"
   ]
  },
  {
   "cell_type": "code",
   "execution_count": 3,
   "metadata": {},
   "outputs": [],
   "source": [
    "from sqlalchemy import text\n",
    "# define a SQL execution function\n",
    "def execute_SQL(connection, query):\n",
    "    \"\"\"Executes the given SQL query using the provided connection.\"\"\"\n",
    "    return connection.execute(query)"
   ]
  },
  {
   "cell_type": "markdown",
   "metadata": {},
   "source": [
    "### Task 1. How many stores does each country has?\n",
    "The Operations team would like to know which countries we currently operate in and which country now has the most stores. Perform a query on the database to get the information, it should return the following information:\n",
    "\n",
    "+----------+-----------------+\n",
    "| country  | total_no_stores |\n",
    "+----------+-----------------+\n",
    "| GB       |             265 |\n",
    "| DE       |             141 |\n",
    "| US       |              34 |\n",
    "+----------+-----------------+\n",
    "Note: DE is short for Deutschland(Germany)"
   ]
  },
  {
   "cell_type": "code",
   "execution_count": 4,
   "metadata": {},
   "outputs": [
    {
     "name": "stdout",
     "output_type": "stream",
     "text": [
      "Country: GB, Total Stores: 266\n",
      "Country: DE, Total Stores: 141\n",
      "Country: US, Total Stores: 34\n"
     ]
    }
   ],
   "source": [
    "# Define the SQL query\n",
    "query = text(\"\"\"\n",
    "    SELECT\n",
    "        country_code AS country,\n",
    "        COUNT(*) AS total_no_stores\n",
    "    FROM\n",
    "        dim_store_details\n",
    "    GROUP BY\n",
    "        country_code\n",
    "    ORDER BY\n",
    "        total_no_stores DESC;\n",
    "\"\"\")\n",
    "\n",
    "# Use the connection from the engine\n",
    "with dc.engine.connect() as connection:\n",
    "    # Fetch all results\n",
    "    result = execute_SQL(connection, query)\n",
    "    stores_count = result.fetchall()\n",
    "\n",
    "    # Print results\n",
    "    for row in stores_count:\n",
    "        print(f\"Country: {row[0]}, Total Stores: {row[1]}\")  # Access by index\n"
   ]
  },
  {
   "cell_type": "markdown",
   "metadata": {},
   "source": [
    "### Task 2. which locations currently have most stores?\n",
    "\n",
    "The business stakeholders would like to know which locations currently have the most stores.\n",
    "\n",
    "They would like to close some stores before opening more in other locations.\n",
    "\n",
    "Find out which locations have the most stores currently. The query should return the following:\n",
    "```\n",
    "+-------------------+-----------------+\n",
    "|     locality      | total_no_stores |\n",
    "+-------------------+-----------------+\n",
    "| Chapletown        |              14 |\n",
    "| Belper            |              13 |\n",
    "| Bushley           |              12 |\n",
    "| Exeter            |              11 |\n",
    "| High Wycombe      |              10 |\n",
    "| Arbroath          |              10 |\n",
    "| Rutherglen        |              10 |\n",
    "+-------------------+-----------------+\n",
    "```"
   ]
  },
  {
   "cell_type": "code",
   "execution_count": 5,
   "metadata": {},
   "outputs": [
    {
     "name": "stdout",
     "output_type": "stream",
     "text": [
      "Locality: Chapletown, Total Stores: 14\n",
      "Locality: Belper, Total Stores: 13\n",
      "Locality: Bushey, Total Stores: 12\n",
      "Locality: Exeter, Total Stores: 11\n",
      "Locality: High Wycombe, Total Stores: 10\n",
      "Locality: Arbroath, Total Stores: 10\n",
      "Locality: Rutherglen, Total Stores: 10\n"
     ]
    }
   ],
   "source": [
    "# Define the SQL query\n",
    "query = text(\"\"\"\n",
    "    SELECT\n",
    "        locality,\n",
    "        COUNT(*) AS total_no_stores\n",
    "    FROM\n",
    "        dim_store_details\n",
    "    GROUP BY\n",
    "        locality\n",
    "    ORDER BY\n",
    "        total_no_stores DESC\n",
    "    LIMIT 7;\n",
    "\"\"\")\n",
    "\n",
    "# Use the connection from the engine\n",
    "with dc.engine.connect() as connection:\n",
    "    # Fetch all results\n",
    "    result = execute_SQL(connection, query)\n",
    "    locations_count = result.fetchall()\n",
    "\n",
    "    # Print results\n",
    "    for row in locations_count:\n",
    "        print(f\"Locality: {row[0]}, Total Stores: {row[1]}\")  # Access by index"
   ]
  },
  {
   "cell_type": "markdown",
   "metadata": {},
   "source": [
    "### Task 3. which months produce largest amount of sales?\n",
    "\n",
    "Query the database to find out which months have produced the most sales. The query should return the following information:\n",
    "```\n",
    "+-------------+-------+\n",
    "| total_sales | month |\n",
    "+-------------+-------+\n",
    "|   673295.68 |     8 |\n",
    "|   668041.45 |     1 |\n",
    "|   657335.84 |    10 |\n",
    "|   650321.43 |     5 |\n",
    "|   645741.70 |     7 |\n",
    "|   645463.00 |     3 |\n",
    "+-------------+-------+\n",
    "```"
   ]
  },
  {
   "cell_type": "code",
   "execution_count": 6,
   "metadata": {},
   "outputs": [
    {
     "name": "stdout",
     "output_type": "stream",
     "text": [
      "Total Sales: 673295.68, Month: 8\n",
      "Total Sales: 668041.45, Month: 1\n",
      "Total Sales: 657335.84, Month: 10\n",
      "Total Sales: 650321.43, Month: 5\n",
      "Total Sales: 645741.70, Month: 7\n",
      "Total Sales: 645463.00, Month: 3\n"
     ]
    }
   ],
   "source": [
    "# Define the SQL query\n",
    "query = text(\"\"\"\n",
    "    SELECT \n",
    "    SUM(CAST(dp.product_price AS NUMERIC) * ot.product_quantity) AS total_sales,\n",
    "    dt.month\n",
    "    FROM \n",
    "        orders_table ot\n",
    "    JOIN \n",
    "        dim_products dp ON ot.product_code = dp.product_code\n",
    "    JOIN \n",
    "        dim_date_times dt ON ot.date_uuid = dt.date_uuid\n",
    "    GROUP BY \n",
    "        dt.month\n",
    "    ORDER BY \n",
    "        total_sales DESC\n",
    "    LIMIT 6;\n",
    "\n",
    "\"\"\")\n",
    "\n",
    "# Use the connection from the engine\n",
    "with dc.engine.connect() as connection:\n",
    "    # Fetch all results\n",
    "    result = execute_SQL(connection, query)\n",
    "    sales_count = result.fetchall()\n",
    "\n",
    "    # Print results\n",
    "    for row in sales_count:\n",
    "        print(f\"Total Sales: {row[0]:.2f}, Month: {row[1]}\")  # Access by index and format total_sales"
   ]
  },
  {
   "cell_type": "markdown",
   "metadata": {},
   "source": [
    "### Task 4. how much sales from online and offline?\n",
    "\n",
    "The company is looking to increase its online sales.\n",
    "\n",
    "They want to know how many sales are happening online vs offline.\n",
    "\n",
    "Calculate how many products were sold and the amount of sales made for online and offline purchases.\n",
    "\n",
    "You should get the following information:\n",
    "```\n",
    "+------------------+-------------------------+----------+\n",
    "| numbers_of_sales | product_quantity_count  | location |\n",
    "+------------------+-------------------------+----------+\n",
    "|            26957 |                  107739 | Web      |\n",
    "|            93166 |                  374047 | Offline  |\n",
    "+------------------+-------------------------+----------+\n",
    "```"
   ]
  },
  {
   "cell_type": "code",
   "execution_count": 7,
   "metadata": {},
   "outputs": [
    {
     "name": "stdout",
     "output_type": "stream",
     "text": [
      "numbers_of_sales: 26957.00, product_quantity_count: 107739, location: Web\n",
      "numbers_of_sales: 93166.00, product_quantity_count: 374047, location: Offline\n"
     ]
    }
   ],
   "source": [
    "# Define the SQL query\n",
    "query = text(\"\"\"\n",
    "SELECT \n",
    "    COUNT(*) AS numbers_of_sales, \n",
    "    SUM(ot.product_quantity) AS product_quantity_count, \n",
    "    CASE \n",
    "        WHEN ds.store_code LIKE 'WEB%' THEN 'Web' \n",
    "        ELSE 'Offline' \n",
    "    END AS location\n",
    "FROM \n",
    "    orders_table ot\n",
    "JOIN \n",
    "    dim_store_details ds ON ot.store_code = ds.store_code\n",
    "GROUP BY \n",
    "    location;\n",
    "\"\"\")\n",
    "\n",
    "# Use the connection from the engine\n",
    "with dc.engine.connect() as connection:\n",
    "    # Fetch all results\n",
    "    result = execute_SQL(connection, query)\n",
    "    sales_count = result.fetchall()\n",
    "\n",
    "    # Print results\n",
    "    for row in sales_count:\n",
    "        print(f\"numbers_of_sales: {row[0]:.2f}, product_quantity_count: {row[1]}, location: {row[2]}\")  # Access by index and format total_sales"
   ]
  },
  {
   "cell_type": "markdown",
   "metadata": {},
   "source": [
    "### Task 5. what percentage of sales come from each type of stores?\n",
    "\n",
    "The sales team wants to know which of the different store types is generated the most revenue so they know where to focus.\n",
    "\n",
    "Find out the total and percentage of sales coming from each of the different store types.\n",
    "\n",
    "The query should return:\n",
    "```\n",
    "+-------------+-------------+---------------------+\n",
    "| store_type  | total_sales | percentage_total(%) |\n",
    "+-------------+-------------+---------------------+\n",
    "| Local       |  3440896.52 |               44.87 |\n",
    "| Web portal  |  1726547.05 |               22.44 |\n",
    "| Super Store |  1224293.65 |               15.63 |\n",
    "| Mall Kiosk  |   698791.61 |                8.96 |\n",
    "| Outlet      |   631804.81 |                8.10 |\n",
    "+-------------+-------------+---------------------+\n",
    "```"
   ]
  },
  {
   "cell_type": "code",
   "execution_count": 8,
   "metadata": {},
   "outputs": [
    {
     "name": "stdout",
     "output_type": "stream",
     "text": [
      "store_type: Local, total_sales: 3440896.52, percentage_total(%)44.56\n",
      "store_type: Web Portal, total_sales: 1726547.05, percentage_total(%)22.36\n",
      "store_type: Super Store, total_sales: 1224293.65, percentage_total(%)15.85\n",
      "store_type: Mall Kiosk, total_sales: 698791.61, percentage_total(%)9.05\n",
      "store_type: Outlet, total_sales: 631804.81, percentage_total(%)8.18\n"
     ]
    }
   ],
   "source": [
    "# Define the SQL query\n",
    "query = text(\"\"\"\n",
    "SELECT \n",
    "    ds.store_type,\n",
    "    SUM(CAST(dp.product_price AS NUMERIC) * ot.product_quantity) AS total_sales,\n",
    "    ROUND(\n",
    "        (SUM(CAST(dp.product_price AS NUMERIC) * ot.product_quantity) / \n",
    "        (SELECT SUM(CAST(dp.product_price AS NUMERIC) * ot.product_quantity)\n",
    "         FROM orders_table ot\n",
    "         JOIN dim_products dp ON ot.product_code = dp.product_code)) * 100, 2\n",
    "    ) AS percentage_total\n",
    "FROM \n",
    "    orders_table ot\n",
    "JOIN \n",
    "    dim_products dp ON ot.product_code = dp.product_code\n",
    "JOIN \n",
    "    dim_store_details ds ON ot.store_code = ds.store_code\n",
    "GROUP BY \n",
    "    ds.store_type\n",
    "ORDER BY \n",
    "    total_sales DESC;\n",
    "\"\"\")\n",
    "\n",
    "# Use the connection from the engine\n",
    "with dc.engine.connect() as connection:\n",
    "    # Fetch all results\n",
    "    result = execute_SQL(connection, query)\n",
    "    sales_percentage = result.fetchall()\n",
    "\n",
    "    # Print results\n",
    "    for row in sales_percentage:\n",
    "        print(f\"store_type: {row[0]}, total_sales: {row[1]}, percentage_total(%){row[2]}\")  # Access by index and format total_sales"
   ]
  },
  {
   "cell_type": "markdown",
   "metadata": {},
   "source": [
    "### Task 6. Which month in each year produce biggest cost sales?\n",
    "\n",
    "The company stakeholders want assurances that the company has been doing well recently.\n",
    "\n",
    "Find which months in which years have had the most sales historically.\n",
    "\n",
    "The query should return the following information:\n",
    "```\n",
    "+-------------+------+-------+\n",
    "| total_sales | year | month |\n",
    "+-------------+------+-------+\n",
    "|    27936.77 | 1994 |     3 |\n",
    "|    27356.14 | 2019 |     1 |\n",
    "|    27091.67 | 2009 |     8 |\n",
    "|    26679.98 | 1997 |    11 |\n",
    "|    26310.97 | 2018 |    12 |\n",
    "|    26277.72 | 2019 |     8 |\n",
    "|    26236.67 | 2017 |     9 |\n",
    "|    25798.12 | 2010 |     5 |\n",
    "|    25648.29 | 1996 |     8 |\n",
    "|    25614.54 | 2000 |     1 |\n",
    "+-------------+------+-------+\n",
    "```"
   ]
  },
  {
   "cell_type": "code",
   "execution_count": 9,
   "metadata": {},
   "outputs": [
    {
     "name": "stdout",
     "output_type": "stream",
     "text": [
      "total_sales: 27936.77, year: 1994, month: 3\n",
      "total_sales: 27356.14, year: 2019, month: 1\n",
      "total_sales: 27091.67, year: 2009, month: 8\n",
      "total_sales: 26679.98, year: 1997, month: 11\n",
      "total_sales: 26310.97, year: 2018, month: 12\n",
      "total_sales: 26277.72, year: 2019, month: 8\n",
      "total_sales: 26236.67, year: 2017, month: 9\n",
      "total_sales: 25798.12, year: 2010, month: 5\n",
      "total_sales: 25648.29, year: 1996, month: 8\n",
      "total_sales: 25614.54, year: 2000, month: 1\n"
     ]
    }
   ],
   "source": [
    "# Define the SQL query\n",
    "query = text(\"\"\"\n",
    "SELECT \n",
    "    SUM(CAST(dp.product_price AS NUMERIC) * ot.product_quantity) AS total_sales,\n",
    "    dt.year,\n",
    "    dt.month\n",
    "FROM \n",
    "    orders_table ot\n",
    "JOIN \n",
    "    dim_products dp ON ot.product_code = dp.product_code\n",
    "JOIN \n",
    "    dim_date_times dt ON ot.date_uuid = dt.date_uuid\n",
    "GROUP BY \n",
    "    dt.year, dt.month\n",
    "ORDER BY \n",
    "    total_sales DESC\n",
    "LIMIT 10;\n",
    "\"\"\")\n",
    "\n",
    "# Use the connection from the engine\n",
    "with dc.engine.connect() as connection:\n",
    "    # Fetch all results\n",
    "    result = execute_SQL(connection, query)\n",
    "    total_sales = result.fetchall()\n",
    "\n",
    "    # Print results\n",
    "    for row in total_sales:\n",
    "        print(f\"total_sales: {row[0]}, year: {row[1]}, month: {row[2]}\")  # Access by index and format total_sales"
   ]
  },
  {
   "cell_type": "markdown",
   "metadata": {},
   "source": [
    "### Task 7. Staff headcount?\n",
    "\n",
    "The operations team would like to know the overall staff numbers in each location around the world. Perform a query to determine the staff numbers in each of the countries the company sells in.\n",
    "\n",
    "The query should return the values:\n",
    "```\n",
    "+---------------------+--------------+\n",
    "| total_staff_numbers | country_code |\n",
    "+---------------------+--------------+\n",
    "|               13307 | GB           |\n",
    "|                6123 | DE           |\n",
    "|                1384 | US           |\n",
    "+---------------------+--------------+\n",
    "```"
   ]
  },
  {
   "cell_type": "code",
   "execution_count": 10,
   "metadata": {},
   "outputs": [
    {
     "name": "stdout",
     "output_type": "stream",
     "text": [
      "total_staff_numbers: GB, country_code: 13307\n",
      "total_staff_numbers: DE, country_code: 6123\n",
      "total_staff_numbers: US, country_code: 1384\n"
     ]
    }
   ],
   "source": [
    "# Define the SQL query\n",
    "query = text(\"\"\"\n",
    "SELECT \n",
    "    country_code,\n",
    "    SUM(staff_numbers) AS total_staff\n",
    "FROM \n",
    "    dim_store_details\n",
    "GROUP BY \n",
    "    country_code\n",
    "ORDER BY \n",
    "    total_staff DESC;\n",
    "\"\"\")\n",
    "\n",
    "# Use the connection from the engine\n",
    "with dc.engine.connect() as connection:\n",
    "    # Fetch all results\n",
    "    result = execute_SQL(connection, query)\n",
    "    total_staff = result.fetchall()\n",
    "\n",
    "    # Print results\n",
    "    for row in total_staff:\n",
    "        print(f\"total_staff_numbers: {row[0]}, country_code: {row[1]}\")  # Access by index and format total_sales\n"
   ]
  },
  {
   "cell_type": "markdown",
   "metadata": {},
   "source": [
    "### Task 8. which German store type selling the most?\n",
    "\n",
    "The sales team is looking to expand their territory in Germany. Determine which type of store is generating the most sales in Germany.\n",
    "\n",
    "The query will return:\n",
    "```\n",
    "+--------------+-------------+--------------+\n",
    "| total_sales  | store_type  | country_code |\n",
    "+--------------+-------------+--------------+\n",
    "|   198373.57  | Outlet      | DE           |\n",
    "|   247634.20  | Mall Kiosk  | DE           |\n",
    "|   384625.03  | Super Store | DE           |\n",
    "|  1109909.59  | Local       | DE           |\n",
    "+--------------+-------------+--------------+\n",
    "```"
   ]
  },
  {
   "cell_type": "code",
   "execution_count": 11,
   "metadata": {},
   "outputs": [
    {
     "name": "stdout",
     "output_type": "stream",
     "text": [
      "total_sales: 198373.57, store_type: Outlet, country_code: DE\n",
      "total_sales: 247634.20, store_type: Mall Kiosk, country_code: DE\n",
      "total_sales: 384625.03, store_type: Super Store, country_code: DE\n",
      "total_sales: 1109909.59, store_type: Local, country_code: DE\n"
     ]
    }
   ],
   "source": [
    "# Define the SQL query\n",
    "query = text(\"\"\"\n",
    "SELECT \n",
    "    SUM(CAST(dp.product_price AS NUMERIC) * ot.product_quantity) AS total_sales,\n",
    "    ds.store_type,\n",
    "    ds.country_code\n",
    "FROM \n",
    "    orders_table ot\n",
    "JOIN \n",
    "    dim_products dp ON ot.product_code = dp.product_code\n",
    "JOIN \n",
    "    dim_store_details ds ON ot.store_code = ds.store_code\n",
    "WHERE \n",
    "    ds.country_code = 'DE'\n",
    "GROUP BY \n",
    "    ds.store_type, ds.country_code\n",
    "ORDER BY \n",
    "    total_sales ASC;\n",
    "\"\"\")\n",
    "\n",
    "# Use the connection from the engine\n",
    "with dc.engine.connect() as connection:\n",
    "    # Fetch all results\n",
    "    result = execute_SQL(connection, query)\n",
    "    total_staff = result.fetchall()\n",
    "\n",
    "    # Print results\n",
    "    for row in total_staff:\n",
    "        print(f\"total_sales: {row[0]}, store_type: {row[1]}, country_code: {row[2]}\")  # Access by index and format total_sales"
   ]
  },
  {
   "cell_type": "markdown",
   "metadata": {},
   "source": [
    "### Task 9. How quickly the company make sales?\n",
    "\n",
    "Sales would like the get an accurate metric for how quickly the company is making sales.\n",
    "\n",
    "Determine the average time taken between each sale grouped by year, the query should return the following information:\n",
    "```\n",
    " +------+-------------------------------------------------------+\n",
    " | year |                           actual_time_taken           |\n",
    " +------+-------------------------------------------------------+\n",
    " | 2013 | \"hours\": 2, \"minutes\": 17, \"seconds\": 12, \"millise... |\n",
    " | 1993 | \"hours\": 2, \"minutes\": 15, \"seconds\": 35, \"millise... |\n",
    " | 2002 | \"hours\": 2, \"minutes\": 13, \"seconds\": 50, \"millise... | \n",
    " | 2022 | \"hours\": 2, \"minutes\": 13, \"seconds\": 6,  \"millise... |\n",
    " | 2008 | \"hours\": 2, \"minutes\": 13, \"seconds\": 2,  \"millise... |\n",
    " +------+-------------------------------------------------------+\n",
    " ```"
   ]
  },
  {
   "cell_type": "code",
   "execution_count": 13,
   "metadata": {},
   "outputs": [
    {
     "name": "stdout",
     "output_type": "stream",
     "text": [
      "year: 2013, actual_time_taken: 02 hours, 17 minutes, 13 seconds, 712 milliseconds\n",
      "year: 1993, actual_time_taken: 02 hours, 15 minutes, 35 seconds, 481 milliseconds\n",
      "year: 2002, actual_time_taken: 02 hours, 13 minutes, 39 seconds, 915 milliseconds\n",
      "year: 2008, actual_time_taken: 02 hours, 13 minutes, 03 seconds, 770 milliseconds\n",
      "year: 2022, actual_time_taken: 02 hours, 13 minutes, 02 seconds, 003 milliseconds\n"
     ]
    }
   ],
   "source": [
    "# Define the SQL query\n",
    "query = text(\"\"\"\n",
    "WITH sales_with_times AS (\n",
    "    SELECT \n",
    "        dt.year::int AS year,\n",
    "        TO_TIMESTAMP(dt.year || '-' || dt.month || '-' || dt.day || ' ' || dt.timestamp, 'YYYY-MM-DD HH24:MI:SS') AS sale_timestamp\n",
    "    FROM orders_table o\n",
    "    JOIN dim_date_times dt ON o.date_uuid = dt.date_uuid\n",
    "),\n",
    "sales_with_diff AS (\n",
    "    SELECT \n",
    "        year,\n",
    "        sale_timestamp,\n",
    "        LEAD(sale_timestamp) OVER (PARTITION BY year ORDER BY sale_timestamp) AS next_sale_timestamp\n",
    "    FROM sales_with_times\n",
    "),\n",
    "time_differences AS (\n",
    "    SELECT \n",
    "        year,\n",
    "        sale_timestamp,\n",
    "        next_sale_timestamp,\n",
    "        next_sale_timestamp - sale_timestamp AS time_diff\n",
    "    FROM sales_with_diff\n",
    "    WHERE next_sale_timestamp IS NOT NULL\n",
    "),\n",
    "avg_time_per_year AS (\n",
    "    SELECT \n",
    "        year,\n",
    "        AVG(time_diff) AS avg_time_diff\n",
    "    FROM time_differences\n",
    "    GROUP BY year\n",
    ")\n",
    "SELECT \n",
    "    year,\n",
    "    TO_CHAR(avg_time_diff, 'HH24 \"hours\", MI \"minutes\", SS \"seconds\", MS \"milliseconds\"') AS actual_time_taken\n",
    "FROM avg_time_per_year\n",
    "ORDER BY avg_time_diff DESC\n",
    "limit 5;\n",
    "\"\"\")\n",
    "\n",
    "# Use the connection from the engine\n",
    "with dc.engine.connect() as connection:\n",
    "    # Fetch all results\n",
    "    result = execute_SQL(connection, query)\n",
    "    time_taken = result.fetchall()\n",
    "\n",
    "    # Print results\n",
    "    for row in time_taken:\n",
    "        print(f\"year: {row[0]}, actual_time_taken: {row[1]}\") "
   ]
  }
 ],
 "metadata": {
  "kernelspec": {
   "display_name": "sql_proj",
   "language": "python",
   "name": "python3"
  },
  "language_info": {
   "codemirror_mode": {
    "name": "ipython",
    "version": 3
   },
   "file_extension": ".py",
   "mimetype": "text/x-python",
   "name": "python",
   "nbconvert_exporter": "python",
   "pygments_lexer": "ipython3",
   "version": "3.8.20"
  }
 },
 "nbformat": 4,
 "nbformat_minor": 2
}
